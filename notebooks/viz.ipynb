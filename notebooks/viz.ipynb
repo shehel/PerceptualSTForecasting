{
 "cells": [
  {
   "cell_type": "code",
   "execution_count": 1,
   "metadata": {},
   "outputs": [],
   "source": [
    "import numpy as np\n",
    "import matplotlib.pyplot as plt\n"
   ]
  },
  {
   "cell_type": "code",
   "execution_count": 7,
   "metadata": {},
   "outputs": [],
   "source": [
    "# load .npy files from the work_dir/bnrelu/ folder\n",
    "trues = np.load('../work_dirs/bnrelu/saved/trues.npy')\n",
    "preds = np.load('../work_dirs/bnrelu/saved/preds.npy')"
   ]
  },
  {
   "cell_type": "code",
   "execution_count": 18,
   "metadata": {},
   "outputs": [
    {
     "name": "stdout",
     "output_type": "stream",
     "text": [
      "78.51834\n"
     ]
    }
   ],
   "source": [
    "# get pixel wise mse \n",
    "mse = np.mean((trues - preds)**2, axis=0)\n",
    "# Get total mse averaged over all pixels\n",
    "total_mse = np.mean(mse)\n",
    "print (total_mse)\n"
   ]
  },
  {
   "cell_type": "code",
   "execution_count": 21,
   "metadata": {},
   "outputs": [
    {
     "data": {
      "text/plain": [
       "841.3663"
      ]
     },
     "execution_count": 21,
     "metadata": {},
     "output_type": "execute_result"
    }
   ],
   "source": [
    "mse[0,0,52,52]"
   ]
  },
  {
   "cell_type": "code",
   "execution_count": 55,
   "metadata": {},
   "outputs": [
    {
     "name": "stdout",
     "output_type": "stream",
     "text": [
      "78.124756\n"
     ]
    }
   ],
   "source": [
    "# load npy files from the work_dir/7daysv2_unet/saved folder\n",
    "trues1 = np.load('../work_dirs/7daysv2_unet/saved/trues.npy')\n",
    "preds1 = np.load('../work_dirs/7daysv2_unet/saved/preds.npy')\n",
    "\n",
    "mse1 = np.mean((trues1 - preds1)**2, axis=0)\n",
    "total_mse1 = np.mean(mse1)\n",
    "print (total_mse1)"
   ]
  },
  {
   "cell_type": "code",
   "execution_count": 25,
   "metadata": {},
   "outputs": [
    {
     "name": "stdout",
     "output_type": "stream",
     "text": [
      "903.91724\n"
     ]
    }
   ],
   "source": [
    "print (mse1[0,0,52,52])"
   ]
  },
  {
   "cell_type": "code",
   "execution_count": 56,
   "metadata": {},
   "outputs": [],
   "source": [
    "# sum over first axis in preds1 and trues1 and divide by 240\n",
    "preds1 = np.sum(preds1, axis=0)\n",
    "trues1 = np.sum(trues1, axis=0)\n",
    "preds1 = preds1 / 240\n",
    "trues1 = trues1 / 240"
   ]
  },
  {
   "cell_type": "code",
   "execution_count": 31,
   "metadata": {},
   "outputs": [
    {
     "data": {
      "text/plain": [
       "(1, 1, 128, 128)"
      ]
     },
     "execution_count": 31,
     "metadata": {},
     "output_type": "execute_result"
    }
   ],
   "source": [
    "preds1.shape"
   ]
  },
  {
   "cell_type": "code",
   "execution_count": 34,
   "metadata": {},
   "outputs": [
    {
     "data": {
      "text/plain": [
       "(1, 1, 128, 128)"
      ]
     },
     "execution_count": 34,
     "metadata": {},
     "output_type": "execute_result"
    }
   ],
   "source": [
    "mse1.shape"
   ]
  },
  {
   "cell_type": "code",
   "execution_count": 48,
   "metadata": {},
   "outputs": [],
   "source": [
    "%matplotlib qt5"
   ]
  },
  {
   "cell_type": "code",
   "execution_count": 60,
   "metadata": {},
   "outputs": [
    {
     "data": {
      "text/plain": [
       "904.0"
      ]
     },
     "execution_count": 60,
     "metadata": {},
     "output_type": "execute_result"
    }
   ],
   "source": [
    "mse1[52,52]"
   ]
  },
  {
   "cell_type": "code",
   "execution_count": 57,
   "metadata": {},
   "outputs": [],
   "source": [
    "# round values to nearest integer in mse1\n",
    "mse1 = np.round(mse1[0,0])\n"
   ]
  },
  {
   "cell_type": "code",
   "execution_count": 61,
   "metadata": {},
   "outputs": [],
   "source": [
    "mse  = np.round(mse[0,0])"
   ]
  },
  {
   "cell_type": "code",
   "execution_count": 75,
   "metadata": {},
   "outputs": [
    {
     "ename": "ValueError",
     "evalue": "array([['green', 'green', 'green', ..., 'red', 'blue', 'red'],\n       ['green', 'green', 'green', ..., 'red', 'blue', 'green'],\n       ['green', 'green', 'green', ..., 'red', 'red', 'red'],\n       ...,\n       ['blue', 'green', 'green', ..., 'green', 'green', 'green'],\n       ['blue', 'green', 'green', ..., 'red', 'green', 'red'],\n       ['red', 'green', 'blue', ..., 'green', 'red', 'red']], dtype='<U5') is not a valid value for color",
     "output_type": "error",
     "traceback": [
      "\u001b[0;31m---------------------------------------------------------------------------\u001b[0m",
      "\u001b[0;31mValueError\u001b[0m                                Traceback (most recent call last)",
      "\u001b[1;32m/home/shehel/ml/SimVPv2/notebooks/viz.ipynb Cell 14\u001b[0m in \u001b[0;36m2\n\u001b[1;32m     <a href='vscode-notebook-cell:/home/shehel/ml/SimVPv2/notebooks/viz.ipynb#X25sZmlsZQ%3D%3D?line=17'>18</a>\u001b[0m         \u001b[39mif\u001b[39;00m mse1[i, j] \u001b[39m>\u001b[39m \u001b[39m0\u001b[39m \u001b[39mor\u001b[39;00m mse[i, j] \u001b[39m>\u001b[39m \u001b[39m0\u001b[39m:\n\u001b[1;32m     <a href='vscode-notebook-cell:/home/shehel/ml/SimVPv2/notebooks/viz.ipynb#X25sZmlsZQ%3D%3D?line=18'>19</a>\u001b[0m             color \u001b[39m=\u001b[39m np\u001b[39m.\u001b[39mwhere(mse \u001b[39m>\u001b[39m mse1, \u001b[39m'\u001b[39m\u001b[39mred\u001b[39m\u001b[39m'\u001b[39m, np\u001b[39m.\u001b[39mwhere(mse \u001b[39m<\u001b[39m mse1, \u001b[39m'\u001b[39m\u001b[39mblue\u001b[39m\u001b[39m'\u001b[39m, \u001b[39m'\u001b[39m\u001b[39mgreen\u001b[39m\u001b[39m'\u001b[39m))\n\u001b[0;32m---> <a href='vscode-notebook-cell:/home/shehel/ml/SimVPv2/notebooks/viz.ipynb#X25sZmlsZQ%3D%3D?line=19'>20</a>\u001b[0m             ax\u001b[39m.\u001b[39mtext(j, i, \u001b[39mstr\u001b[39m(\u001b[39mint\u001b[39m(image[i,j]))\u001b[39m+\u001b[39m\u001b[39m'\u001b[39m\u001b[39m,\u001b[39m\u001b[39m'\u001b[39m\u001b[39m+\u001b[39m\u001b[39mstr\u001b[39m(mse[i, j])\u001b[39m+\u001b[39m\u001b[39m\"\u001b[39m\u001b[39m,\u001b[39m\u001b[39m\"\u001b[39m\u001b[39m+\u001b[39m\u001b[39mstr\u001b[39m(mse1[i,j]),\n\u001b[1;32m     <a href='vscode-notebook-cell:/home/shehel/ml/SimVPv2/notebooks/viz.ipynb#X25sZmlsZQ%3D%3D?line=20'>21</a>\u001b[0m                     ha\u001b[39m=\u001b[39m\u001b[39m'\u001b[39m\u001b[39mcenter\u001b[39m\u001b[39m'\u001b[39m, va\u001b[39m=\u001b[39m\u001b[39m'\u001b[39m\u001b[39mcenter\u001b[39m\u001b[39m'\u001b[39m, color\u001b[39m=\u001b[39mcolor, fontsize\u001b[39m=\u001b[39m\u001b[39m10\u001b[39m)\n\u001b[1;32m     <a href='vscode-notebook-cell:/home/shehel/ml/SimVPv2/notebooks/viz.ipynb#X25sZmlsZQ%3D%3D?line=22'>23</a>\u001b[0m \u001b[39m# Add colorbar\u001b[39;00m\n\u001b[1;32m     <a href='vscode-notebook-cell:/home/shehel/ml/SimVPv2/notebooks/viz.ipynb#X25sZmlsZQ%3D%3D?line=23'>24</a>\u001b[0m cbar \u001b[39m=\u001b[39m fig\u001b[39m.\u001b[39mcolorbar(im)\n",
      "File \u001b[0;32m~/miniconda3/envs/t4c/lib/python3.8/site-packages/matplotlib/axes/_axes.py:678\u001b[0m, in \u001b[0;36mAxes.text\u001b[0;34m(self, x, y, s, fontdict, **kwargs)\u001b[0m\n\u001b[1;32m    617\u001b[0m \u001b[39m\"\"\"\u001b[39;00m\n\u001b[1;32m    618\u001b[0m \u001b[39mAdd text to the Axes.\u001b[39;00m\n\u001b[1;32m    619\u001b[0m \n\u001b[0;32m   (...)\u001b[0m\n\u001b[1;32m    668\u001b[0m \u001b[39m    >>> text(x, y, s, bbox=dict(facecolor='red', alpha=0.5))\u001b[39;00m\n\u001b[1;32m    669\u001b[0m \u001b[39m\"\"\"\u001b[39;00m\n\u001b[1;32m    670\u001b[0m effective_kwargs \u001b[39m=\u001b[39m {\n\u001b[1;32m    671\u001b[0m     \u001b[39m'\u001b[39m\u001b[39mverticalalignment\u001b[39m\u001b[39m'\u001b[39m: \u001b[39m'\u001b[39m\u001b[39mbaseline\u001b[39m\u001b[39m'\u001b[39m,\n\u001b[1;32m    672\u001b[0m     \u001b[39m'\u001b[39m\u001b[39mhorizontalalignment\u001b[39m\u001b[39m'\u001b[39m: \u001b[39m'\u001b[39m\u001b[39mleft\u001b[39m\u001b[39m'\u001b[39m,\n\u001b[0;32m   (...)\u001b[0m\n\u001b[1;32m    676\u001b[0m     \u001b[39m*\u001b[39m\u001b[39m*\u001b[39mkwargs,\n\u001b[1;32m    677\u001b[0m }\n\u001b[0;32m--> 678\u001b[0m t \u001b[39m=\u001b[39m mtext\u001b[39m.\u001b[39;49mText(x, y, text\u001b[39m=\u001b[39;49ms, \u001b[39m*\u001b[39;49m\u001b[39m*\u001b[39;49meffective_kwargs)\n\u001b[1;32m    679\u001b[0m t\u001b[39m.\u001b[39mset_clip_path(\u001b[39mself\u001b[39m\u001b[39m.\u001b[39mpatch)\n\u001b[1;32m    680\u001b[0m \u001b[39mself\u001b[39m\u001b[39m.\u001b[39m_add_text(t)\n",
      "File \u001b[0;32m~/miniconda3/envs/t4c/lib/python3.8/site-packages/matplotlib/_api/deprecation.py:454\u001b[0m, in \u001b[0;36mmake_keyword_only.<locals>.wrapper\u001b[0;34m(*args, **kwargs)\u001b[0m\n\u001b[1;32m    448\u001b[0m \u001b[39mif\u001b[39;00m \u001b[39mlen\u001b[39m(args) \u001b[39m>\u001b[39m name_idx:\n\u001b[1;32m    449\u001b[0m     warn_deprecated(\n\u001b[1;32m    450\u001b[0m         since, message\u001b[39m=\u001b[39m\u001b[39m\"\u001b[39m\u001b[39mPassing the \u001b[39m\u001b[39m%(name)s\u001b[39;00m\u001b[39m \u001b[39m\u001b[39m%(obj_type)s\u001b[39;00m\u001b[39m \u001b[39m\u001b[39m\"\u001b[39m\n\u001b[1;32m    451\u001b[0m         \u001b[39m\"\u001b[39m\u001b[39mpositionally is deprecated since Matplotlib \u001b[39m\u001b[39m%(since)s\u001b[39;00m\u001b[39m; the \u001b[39m\u001b[39m\"\u001b[39m\n\u001b[1;32m    452\u001b[0m         \u001b[39m\"\u001b[39m\u001b[39mparameter will become keyword-only \u001b[39m\u001b[39m%(removal)s\u001b[39;00m\u001b[39m.\u001b[39m\u001b[39m\"\u001b[39m,\n\u001b[1;32m    453\u001b[0m         name\u001b[39m=\u001b[39mname, obj_type\u001b[39m=\u001b[39m\u001b[39mf\u001b[39m\u001b[39m\"\u001b[39m\u001b[39mparameter of \u001b[39m\u001b[39m{\u001b[39;00mfunc\u001b[39m.\u001b[39m\u001b[39m__name__\u001b[39m\u001b[39m}\u001b[39;00m\u001b[39m()\u001b[39m\u001b[39m\"\u001b[39m)\n\u001b[0;32m--> 454\u001b[0m \u001b[39mreturn\u001b[39;00m func(\u001b[39m*\u001b[39;49margs, \u001b[39m*\u001b[39;49m\u001b[39m*\u001b[39;49mkwargs)\n",
      "File \u001b[0;32m~/miniconda3/envs/t4c/lib/python3.8/site-packages/matplotlib/text.py:168\u001b[0m, in \u001b[0;36mText.__init__\u001b[0;34m(self, x, y, text, color, verticalalignment, horizontalalignment, multialignment, fontproperties, rotation, linespacing, rotation_mode, usetex, wrap, transform_rotates_text, parse_math, **kwargs)\u001b[0m\n\u001b[1;32m    166\u001b[0m \u001b[39mself\u001b[39m\u001b[39m.\u001b[39m_text \u001b[39m=\u001b[39m \u001b[39m'\u001b[39m\u001b[39m'\u001b[39m\n\u001b[1;32m    167\u001b[0m \u001b[39mself\u001b[39m\u001b[39m.\u001b[39mset_text(text)\n\u001b[0;32m--> 168\u001b[0m \u001b[39mself\u001b[39;49m\u001b[39m.\u001b[39;49mset_color(\n\u001b[1;32m    169\u001b[0m     color \u001b[39mif\u001b[39;49;00m color \u001b[39mis\u001b[39;49;00m \u001b[39mnot\u001b[39;49;00m \u001b[39mNone\u001b[39;49;00m \u001b[39melse\u001b[39;49;00m mpl\u001b[39m.\u001b[39;49mrcParams[\u001b[39m\"\u001b[39;49m\u001b[39mtext.color\u001b[39;49m\u001b[39m\"\u001b[39;49m])\n\u001b[1;32m    170\u001b[0m \u001b[39mself\u001b[39m\u001b[39m.\u001b[39mset_fontproperties(fontproperties)\n\u001b[1;32m    171\u001b[0m \u001b[39mself\u001b[39m\u001b[39m.\u001b[39mset_usetex(usetex)\n",
      "File \u001b[0;32m~/miniconda3/envs/t4c/lib/python3.8/site-packages/matplotlib/text.py:953\u001b[0m, in \u001b[0;36mText.set_color\u001b[0;34m(self, color)\u001b[0m\n\u001b[1;32m    950\u001b[0m \u001b[39m# \"auto\" is only supported by axisartist, but we can just let it error\u001b[39;00m\n\u001b[1;32m    951\u001b[0m \u001b[39m# out at draw time for simplicity.\u001b[39;00m\n\u001b[1;32m    952\u001b[0m \u001b[39mif\u001b[39;00m \u001b[39mnot\u001b[39;00m cbook\u001b[39m.\u001b[39m_str_equal(color, \u001b[39m\"\u001b[39m\u001b[39mauto\u001b[39m\u001b[39m\"\u001b[39m):\n\u001b[0;32m--> 953\u001b[0m     mpl\u001b[39m.\u001b[39;49mcolors\u001b[39m.\u001b[39;49m_check_color_like(color\u001b[39m=\u001b[39;49mcolor)\n\u001b[1;32m    954\u001b[0m \u001b[39m# Make sure it is hashable, or get_prop_tup will fail (remove this once\u001b[39;00m\n\u001b[1;32m    955\u001b[0m \u001b[39m# get_prop_tup is removed).\u001b[39;00m\n\u001b[1;32m    956\u001b[0m \u001b[39mtry\u001b[39;00m:\n",
      "File \u001b[0;32m~/miniconda3/envs/t4c/lib/python3.8/site-packages/matplotlib/colors.py:243\u001b[0m, in \u001b[0;36m_check_color_like\u001b[0;34m(**kwargs)\u001b[0m\n\u001b[1;32m    241\u001b[0m \u001b[39mfor\u001b[39;00m k, v \u001b[39min\u001b[39;00m kwargs\u001b[39m.\u001b[39mitems():\n\u001b[1;32m    242\u001b[0m     \u001b[39mif\u001b[39;00m \u001b[39mnot\u001b[39;00m is_color_like(v):\n\u001b[0;32m--> 243\u001b[0m         \u001b[39mraise\u001b[39;00m \u001b[39mValueError\u001b[39;00m(\u001b[39mf\u001b[39m\u001b[39m\"\u001b[39m\u001b[39m{\u001b[39;00mv\u001b[39m!r}\u001b[39;00m\u001b[39m is not a valid value for \u001b[39m\u001b[39m{\u001b[39;00mk\u001b[39m}\u001b[39;00m\u001b[39m\"\u001b[39m)\n",
      "\u001b[0;31mValueError\u001b[0m: array([['green', 'green', 'green', ..., 'red', 'blue', 'red'],\n       ['green', 'green', 'green', ..., 'red', 'blue', 'green'],\n       ['green', 'green', 'green', ..., 'red', 'red', 'red'],\n       ...,\n       ['blue', 'green', 'green', ..., 'green', 'green', 'green'],\n       ['blue', 'green', 'green', ..., 'red', 'green', 'red'],\n       ['red', 'green', 'blue', ..., 'green', 'red', 'red']], dtype='<U5') is not a valid value for color"
     ]
    }
   ],
   "source": [
    "import numpy as np\n",
    "import matplotlib.pyplot as plt\n",
    "\n",
    "# Generate a random binary image (128x128)\n",
    "image = preds1[0,0]\n",
    "\n",
    "# Calculate the figure size based on the image size\n",
    "fig_width = max(16, image.shape[1] * 0.5)\n",
    "fig_height = max(12, image.shape[0] * 0.5)\n",
    "\n",
    "# Create a figure with adjusted size\n",
    "fig, ax = plt.subplots(figsize=(fig_width, fig_height))\n",
    "\n",
    "color = np.where(mse > mse1, 'red', np.where(mse < mse1, 'blue', 'green'))\n",
    "# Display the image with labeled pixels\n",
    "im = ax.imshow(image, cmap='gray')\n",
    "for i in range(image.shape[0]):\n",
    "    for j in range(image.shape[1]):\n",
    "        if mse1[i, j] > 0 or mse[i, j] > 0:\n",
    "            ax.text(j, i, str(int(image[i,j]))+','+str(mse[i, j])+\",\"+str(mse1[i,j]),\n",
    "                    ha='center', va='center', color=color[i,j], fontsize=10)\n",
    "\n",
    "# Add colorbar\n",
    "cbar = fig.colorbar(im)\n",
    "\n",
    "# Set labels and title\n",
    "ax.set_xlabel('Columns')\n",
    "ax.set_ylabel('Rows')\n",
    "ax.set_title('Pixel Value Visualization')\n",
    "\n",
    "# Show the plot\n",
    "plt.show()\n"
   ]
  },
  {
   "cell_type": "code",
   "execution_count": 68,
   "metadata": {},
   "outputs": [
    {
     "data": {
      "text/plain": [
       "(128, 128)"
      ]
     },
     "execution_count": 68,
     "metadata": {},
     "output_type": "execute_result"
    }
   ],
   "source": [
    "mse.shape"
   ]
  },
  {
   "cell_type": "code",
   "execution_count": 70,
   "metadata": {},
   "outputs": [
    {
     "data": {
      "text/plain": [
       "'13.0,3.0'"
      ]
     },
     "execution_count": 70,
     "metadata": {},
     "output_type": "execute_result"
    }
   ],
   "source": [
    "str(mse[i, j])+\",\"+str(mse1[i,j])"
   ]
  },
  {
   "cell_type": "code",
   "execution_count": null,
   "metadata": {},
   "outputs": [],
   "source": []
  }
 ],
 "metadata": {
  "kernelspec": {
   "display_name": "t4c",
   "language": "python",
   "name": "python3"
  },
  "language_info": {
   "codemirror_mode": {
    "name": "ipython",
    "version": 3
   },
   "file_extension": ".py",
   "mimetype": "text/x-python",
   "name": "python",
   "nbconvert_exporter": "python",
   "pygments_lexer": "ipython3",
   "version": "3.8.16"
  },
  "orig_nbformat": 4
 },
 "nbformat": 4,
 "nbformat_minor": 2
}
